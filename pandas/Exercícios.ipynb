{
 "cells": [
  {
   "cell_type": "code",
   "execution_count": 1,
   "id": "b1e8aa80",
   "metadata": {},
   "outputs": [],
   "source": [
    "import pandas as pd"
   ]
  },
  {
   "cell_type": "code",
   "execution_count": 39,
   "id": "0017ae17",
   "metadata": {},
   "outputs": [
    {
     "name": "stderr",
     "output_type": "stream",
     "text": [
      "C:\\Users\\Lynda\\anaconda3\\Lib\\site-packages\\openpyxl\\worksheet\\_read_only.py:79: UserWarning: Unknown extension is not supported and will be removed\n",
      "  for idx, row in parser.parse():\n",
      "C:\\Users\\Lynda\\anaconda3\\Lib\\site-packages\\openpyxl\\worksheet\\_read_only.py:79: UserWarning: Unknown extension is not supported and will be removed\n",
      "  for idx, row in parser.parse():\n",
      "C:\\Users\\Lynda\\anaconda3\\Lib\\site-packages\\openpyxl\\worksheet\\_read_only.py:79: UserWarning: Unknown extension is not supported and will be removed\n",
      "  for idx, row in parser.parse():\n",
      "C:\\Users\\Lynda\\anaconda3\\Lib\\site-packages\\openpyxl\\worksheet\\_read_only.py:79: UserWarning: Unknown extension is not supported and will be removed\n",
      "  for idx, row in parser.parse():\n",
      "C:\\Users\\Lynda\\anaconda3\\Lib\\site-packages\\openpyxl\\worksheet\\_read_only.py:79: UserWarning: Unknown extension is not supported and will be removed\n",
      "  for idx, row in parser.parse():\n"
     ]
    }
   ],
   "source": [
    "cliente = pd.read_excel('data/utf-8/Cliente.xlsx')\n",
    "fornecedor = pd.read_excel('data/utf-8/Fornecedor.xlsx')\n",
    "produto = pd.read_excel('data/utf-8/Produto.xlsx')\n",
    "item = pd.read_excel('data/utf-8/Item.xlsx')\n",
    "nota = pd.read_excel('data/utf-8/Nota.xlsx')"
   ]
  },
  {
   "cell_type": "code",
   "execution_count": 34,
   "id": "dfdf3802",
   "metadata": {},
   "outputs": [
    {
     "data": {
      "text/html": [
       "<div>\n",
       "<style scoped>\n",
       "    .dataframe tbody tr th:only-of-type {\n",
       "        vertical-align: middle;\n",
       "    }\n",
       "\n",
       "    .dataframe tbody tr th {\n",
       "        vertical-align: top;\n",
       "    }\n",
       "\n",
       "    .dataframe thead th {\n",
       "        text-align: right;\n",
       "    }\n",
       "</style>\n",
       "<table border=\"1\" class=\"dataframe\">\n",
       "  <thead>\n",
       "    <tr style=\"text-align: right;\">\n",
       "      <th></th>\n",
       "      <th>CNPJ</th>\n",
       "      <th>Razao_Social</th>\n",
       "      <th>Endereco</th>\n",
       "      <th>Cidade</th>\n",
       "    </tr>\n",
       "  </thead>\n",
       "  <tbody>\n",
       "    <tr>\n",
       "      <th>0</th>\n",
       "      <td>17624092000185</td>\n",
       "      <td>Alpha Soluções em Informática</td>\n",
       "      <td>Rua 9 de Julho, 738</td>\n",
       "      <td>Marília</td>\n",
       "    </tr>\n",
       "    <tr>\n",
       "      <th>1</th>\n",
       "      <td>47132482000176</td>\n",
       "      <td>MicroSystem Informática</td>\n",
       "      <td>Av. da Saudade, 98</td>\n",
       "      <td>Bauru</td>\n",
       "    </tr>\n",
       "    <tr>\n",
       "      <th>2</th>\n",
       "      <td>56021482000112</td>\n",
       "      <td>J.W Sistemas</td>\n",
       "      <td>Rua Paes Leme, 172</td>\n",
       "      <td>Marília</td>\n",
       "    </tr>\n",
       "    <tr>\n",
       "      <th>3</th>\n",
       "      <td>27385372000136</td>\n",
       "      <td>ADABAS S/A</td>\n",
       "      <td>Rua 9 de Julho, 829</td>\n",
       "      <td>Marília</td>\n",
       "    </tr>\n",
       "  </tbody>\n",
       "</table>\n",
       "</div>"
      ],
      "text/plain": [
       "             CNPJ                   Razao_Social             Endereco   Cidade\n",
       "0  17624092000185  Alpha Soluções em Informática  Rua 9 de Julho, 738  Marília\n",
       "1  47132482000176        MicroSystem Informática   Av. da Saudade, 98    Bauru\n",
       "2  56021482000112                   J.W Sistemas   Rua Paes Leme, 172  Marília\n",
       "3  27385372000136                     ADABAS S/A  Rua 9 de Julho, 829  Marília"
      ]
     },
     "execution_count": 34,
     "metadata": {},
     "output_type": "execute_result"
    }
   ],
   "source": [
    "fornecedor"
   ]
  },
  {
   "cell_type": "code",
   "execution_count": 31,
   "id": "ccad351a",
   "metadata": {},
   "outputs": [
    {
     "data": {
      "text/html": [
       "<div>\n",
       "<style scoped>\n",
       "    .dataframe tbody tr th:only-of-type {\n",
       "        vertical-align: middle;\n",
       "    }\n",
       "\n",
       "    .dataframe tbody tr th {\n",
       "        vertical-align: top;\n",
       "    }\n",
       "\n",
       "    .dataframe thead th {\n",
       "        text-align: right;\n",
       "    }\n",
       "</style>\n",
       "<table border=\"1\" class=\"dataframe\">\n",
       "  <thead>\n",
       "    <tr style=\"text-align: right;\">\n",
       "      <th></th>\n",
       "      <th>Nome</th>\n",
       "      <th>Razao_Social</th>\n",
       "    </tr>\n",
       "  </thead>\n",
       "  <tbody>\n",
       "    <tr>\n",
       "      <th>0</th>\n",
       "      <td>Sônia Santos Oliveira</td>\n",
       "      <td>MicroSystem Informática</td>\n",
       "    </tr>\n",
       "  </tbody>\n",
       "</table>\n",
       "</div>"
      ],
      "text/plain": [
       "                    Nome             Razao_Social\n",
       "0  Sônia Santos Oliveira  MicroSystem Informática"
      ]
     },
     "execution_count": 31,
     "metadata": {},
     "output_type": "execute_result"
    }
   ],
   "source": [
    "# Exercício 1: Qual o nome do cliente e a razão social ('Razao_Social') presente na tabela Cliente e Fornecedor?\n",
    "pd.merge(cliente, fornecedor, on='Cidade')[['Nome', 'Razao_Social']]"
   ]
  },
  {
   "cell_type": "code",
   "execution_count": null,
   "id": "ea72c712",
   "metadata": {},
   "outputs": [],
   "source": [
    "# Fazer o drop da coluna 'Endereco_x'\n",
    "pd.merge(cliente, fornecedor, on='Cidade').drop('Endereco_x', axis=1)"
   ]
  },
  {
   "cell_type": "code",
   "execution_count": 40,
   "id": "370db08c",
   "metadata": {},
   "outputs": [
    {
     "data": {
      "text/html": [
       "<div>\n",
       "<style scoped>\n",
       "    .dataframe tbody tr th:only-of-type {\n",
       "        vertical-align: middle;\n",
       "    }\n",
       "\n",
       "    .dataframe tbody tr th {\n",
       "        vertical-align: top;\n",
       "    }\n",
       "\n",
       "    .dataframe thead th {\n",
       "        text-align: right;\n",
       "    }\n",
       "</style>\n",
       "<table border=\"1\" class=\"dataframe\">\n",
       "  <thead>\n",
       "    <tr style=\"text-align: right;\">\n",
       "      <th></th>\n",
       "      <th>Descricao</th>\n",
       "      <th>Estoque</th>\n",
       "      <th>Razao_Social</th>\n",
       "    </tr>\n",
       "  </thead>\n",
       "  <tbody>\n",
       "    <tr>\n",
       "      <th>0</th>\n",
       "      <td>Micro Pentium IV</td>\n",
       "      <td>14</td>\n",
       "      <td>J.W Sistemas</td>\n",
       "    </tr>\n",
       "    <tr>\n",
       "      <th>1</th>\n",
       "      <td>Impressora Epson</td>\n",
       "      <td>8</td>\n",
       "      <td>ADABAS S/A</td>\n",
       "    </tr>\n",
       "    <tr>\n",
       "      <th>2</th>\n",
       "      <td>Disquete 3M</td>\n",
       "      <td>30</td>\n",
       "      <td>Alpha Soluções em Informática</td>\n",
       "    </tr>\n",
       "  </tbody>\n",
       "</table>\n",
       "</div>"
      ],
      "text/plain": [
       "          Descricao  Estoque                   Razao_Social\n",
       "0  Micro Pentium IV       14                   J.W Sistemas\n",
       "1  Impressora Epson        8                     ADABAS S/A\n",
       "2       Disquete 3M       30  Alpha Soluções em Informática"
      ]
     },
     "execution_count": 40,
     "metadata": {},
     "output_type": "execute_result"
    }
   ],
   "source": [
    "# Exercício 2: Faça uma consulta que mostre a descrição e o estoque do produto e o nome do fornecedor do produto\n",
    "# produto.merge(fornecedor, left_on='CNPJ_Fornecedor', right_on='CNPJ')[['Descricao', 'Estoque', 'Razao_Social']]\n",
    "pd.merge(produto, fornecedor, left_on='CNPJ_Fornecedor', right_on='CNPJ')[['Descricao', 'Estoque', 'Razao_Social']]"
   ]
  },
  {
   "cell_type": "code",
   "execution_count": 48,
   "id": "d7362c16",
   "metadata": {},
   "outputs": [],
   "source": [
    "# Exercício 3: Faça uma consulta que mostre o número, data e o nome do cliente de todas as notas\n",
    "df2 = pd.merge(nota, cliente, left_on='Codigo_Cliente', right_on='Codigo' , how='left')[['Numero', 'Data', 'Nome']]"
   ]
  },
  {
   "cell_type": "code",
   "execution_count": 52,
   "id": "6496e8aa",
   "metadata": {},
   "outputs": [
    {
     "data": {
      "text/html": [
       "<div>\n",
       "<style scoped>\n",
       "    .dataframe tbody tr th:only-of-type {\n",
       "        vertical-align: middle;\n",
       "    }\n",
       "\n",
       "    .dataframe tbody tr th {\n",
       "        vertical-align: top;\n",
       "    }\n",
       "\n",
       "    .dataframe thead th {\n",
       "        text-align: right;\n",
       "    }\n",
       "</style>\n",
       "<table border=\"1\" class=\"dataframe\">\n",
       "  <thead>\n",
       "    <tr style=\"text-align: right;\">\n",
       "      <th></th>\n",
       "      <th>Numero</th>\n",
       "      <th>Data</th>\n",
       "      <th>Nome</th>\n",
       "    </tr>\n",
       "  </thead>\n",
       "  <tbody>\n",
       "    <tr>\n",
       "      <th>1</th>\n",
       "      <td>1002</td>\n",
       "      <td>2002-05-18</td>\n",
       "      <td>NaN</td>\n",
       "    </tr>\n",
       "  </tbody>\n",
       "</table>\n",
       "</div>"
      ],
      "text/plain": [
       "   Numero       Data Nome\n",
       "1    1002 2002-05-18  NaN"
      ]
     },
     "execution_count": 52,
     "metadata": {},
     "output_type": "execute_result"
    }
   ],
   "source": [
    "# Exercício 4: Encontre o registro (linha do DataFrame) em que há valor nulo\n",
    "df2[df2.isnull().any(axis=1)]"
   ]
  },
  {
   "cell_type": "code",
   "execution_count": 56,
   "id": "d2f52cda",
   "metadata": {},
   "outputs": [],
   "source": [
    "# Exercício 5: Faça uma consulta que mostre o nome do cliente e a soma das notas desse cliente\n",
    "df = produto.merge(item, left_on='Codigo', right_on='Codigo_Produto').merge(nota, left_on='Numero_Nota', right_on='Numero').merge(cliente, left_on='Codigo_Cliente', right_on='Codigo')"
   ]
  },
  {
   "cell_type": "code",
   "execution_count": 59,
   "id": "ff3ec386",
   "metadata": {},
   "outputs": [],
   "source": [
    "df_nome_valor = df[['Nome', 'Valor']]"
   ]
  },
  {
   "cell_type": "code",
   "execution_count": 61,
   "id": "6252d8b3",
   "metadata": {},
   "outputs": [
    {
     "data": {
      "text/html": [
       "<div>\n",
       "<style scoped>\n",
       "    .dataframe tbody tr th:only-of-type {\n",
       "        vertical-align: middle;\n",
       "    }\n",
       "\n",
       "    .dataframe tbody tr th {\n",
       "        vertical-align: top;\n",
       "    }\n",
       "\n",
       "    .dataframe thead th {\n",
       "        text-align: right;\n",
       "    }\n",
       "</style>\n",
       "<table border=\"1\" class=\"dataframe\">\n",
       "  <thead>\n",
       "    <tr style=\"text-align: right;\">\n",
       "      <th></th>\n",
       "      <th>Valor</th>\n",
       "    </tr>\n",
       "    <tr>\n",
       "      <th>Nome</th>\n",
       "      <th></th>\n",
       "    </tr>\n",
       "  </thead>\n",
       "  <tbody>\n",
       "    <tr>\n",
       "      <th>Claudete Pereira</th>\n",
       "      <td>860</td>\n",
       "    </tr>\n",
       "    <tr>\n",
       "      <th>José Souza</th>\n",
       "      <td>470</td>\n",
       "    </tr>\n",
       "    <tr>\n",
       "      <th>Sônia Santos Oliveira</th>\n",
       "      <td>190</td>\n",
       "    </tr>\n",
       "  </tbody>\n",
       "</table>\n",
       "</div>"
      ],
      "text/plain": [
       "                       Valor\n",
       "Nome                        \n",
       "Claudete Pereira         860\n",
       "José Souza               470\n",
       "Sônia Santos Oliveira    190"
      ]
     },
     "execution_count": 61,
     "metadata": {},
     "output_type": "execute_result"
    }
   ],
   "source": [
    "df_nome_valor.groupby('Nome')['Valor'].sum().to_frame()"
   ]
  },
  {
   "cell_type": "code",
   "execution_count": 73,
   "id": "5efb1e9d",
   "metadata": {},
   "outputs": [],
   "source": [
    "# Exercício 6: Faça uma consulta que mostre o(s) fornecedor(es) que tenham produtos com estoque Nulo\n",
    "df = fornecedor.merge(produto, left_on='CNPJ', right_on='CNPJ_Fornecedor', how='left')"
   ]
  },
  {
   "cell_type": "code",
   "execution_count": 79,
   "id": "85db379f",
   "metadata": {},
   "outputs": [
    {
     "data": {
      "text/html": [
       "<div>\n",
       "<style scoped>\n",
       "    .dataframe tbody tr th:only-of-type {\n",
       "        vertical-align: middle;\n",
       "    }\n",
       "\n",
       "    .dataframe tbody tr th {\n",
       "        vertical-align: top;\n",
       "    }\n",
       "\n",
       "    .dataframe thead th {\n",
       "        text-align: right;\n",
       "    }\n",
       "</style>\n",
       "<table border=\"1\" class=\"dataframe\">\n",
       "  <thead>\n",
       "    <tr style=\"text-align: right;\">\n",
       "      <th></th>\n",
       "      <th>CNPJ</th>\n",
       "      <th>Razao_Social</th>\n",
       "      <th>Endereco</th>\n",
       "      <th>Cidade</th>\n",
       "      <th>Codigo</th>\n",
       "      <th>Descricao</th>\n",
       "      <th>Estoque</th>\n",
       "      <th>Valor</th>\n",
       "      <th>CNPJ_Fornecedor</th>\n",
       "    </tr>\n",
       "  </thead>\n",
       "  <tbody>\n",
       "    <tr>\n",
       "      <th>1</th>\n",
       "      <td>47132482000176</td>\n",
       "      <td>MicroSystem Informática</td>\n",
       "      <td>Av. da Saudade, 98</td>\n",
       "      <td>Bauru</td>\n",
       "      <td>NaN</td>\n",
       "      <td>NaN</td>\n",
       "      <td>NaN</td>\n",
       "      <td>NaN</td>\n",
       "      <td>NaN</td>\n",
       "    </tr>\n",
       "  </tbody>\n",
       "</table>\n",
       "</div>"
      ],
      "text/plain": [
       "             CNPJ             Razao_Social            Endereco Cidade  Codigo  \\\n",
       "1  47132482000176  MicroSystem Informática  Av. da Saudade, 98  Bauru     NaN   \n",
       "\n",
       "  Descricao  Estoque  Valor  CNPJ_Fornecedor  \n",
       "1       NaN      NaN    NaN              NaN  "
      ]
     },
     "execution_count": 79,
     "metadata": {},
     "output_type": "execute_result"
    }
   ],
   "source": [
    "df[df['Estoque'].isnull()]"
   ]
  },
  {
   "cell_type": "code",
   "execution_count": 82,
   "id": "c5526f7b",
   "metadata": {},
   "outputs": [],
   "source": [
    "# Exercício 7: Faça uma consulta que mostre o valor total das notas por tipo de pagamento\n",
    "df = pd.merge(nota, item, left_on='Numero', right_on='Numero_Nota').merge(produto, left_on='Codigo_Produto', right_on='Codigo')"
   ]
  },
  {
   "cell_type": "code",
   "execution_count": 85,
   "id": "5c012ff1",
   "metadata": {},
   "outputs": [
    {
     "data": {
      "text/html": [
       "<div>\n",
       "<style scoped>\n",
       "    .dataframe tbody tr th:only-of-type {\n",
       "        vertical-align: middle;\n",
       "    }\n",
       "\n",
       "    .dataframe tbody tr th {\n",
       "        vertical-align: top;\n",
       "    }\n",
       "\n",
       "    .dataframe thead th {\n",
       "        text-align: right;\n",
       "    }\n",
       "</style>\n",
       "<table border=\"1\" class=\"dataframe\">\n",
       "  <thead>\n",
       "    <tr style=\"text-align: right;\">\n",
       "      <th></th>\n",
       "      <th>Valor</th>\n",
       "    </tr>\n",
       "    <tr>\n",
       "      <th>Tipo_Pagto</th>\n",
       "      <th></th>\n",
       "    </tr>\n",
       "  </thead>\n",
       "  <tbody>\n",
       "    <tr>\n",
       "      <th>A Prazo</th>\n",
       "      <td>190</td>\n",
       "    </tr>\n",
       "    <tr>\n",
       "      <th>A Vista</th>\n",
       "      <td>1610</td>\n",
       "    </tr>\n",
       "  </tbody>\n",
       "</table>\n",
       "</div>"
      ],
      "text/plain": [
       "            Valor\n",
       "Tipo_Pagto       \n",
       "A Prazo       190\n",
       "A Vista      1610"
      ]
     },
     "execution_count": 85,
     "metadata": {},
     "output_type": "execute_result"
    }
   ],
   "source": [
    "df.groupby('Tipo_Pagto')['Valor'].sum().to_frame()"
   ]
  },
  {
   "cell_type": "code",
   "execution_count": 97,
   "id": "4eb3058f",
   "metadata": {},
   "outputs": [
    {
     "data": {
      "text/html": [
       "<div>\n",
       "<style scoped>\n",
       "    .dataframe tbody tr th:only-of-type {\n",
       "        vertical-align: middle;\n",
       "    }\n",
       "\n",
       "    .dataframe tbody tr th {\n",
       "        vertical-align: top;\n",
       "    }\n",
       "\n",
       "    .dataframe thead th {\n",
       "        text-align: right;\n",
       "    }\n",
       "</style>\n",
       "<table border=\"1\" class=\"dataframe\">\n",
       "  <thead>\n",
       "    <tr style=\"text-align: right;\">\n",
       "      <th></th>\n",
       "      <th>Numero</th>\n",
       "      <th>Data</th>\n",
       "      <th>Nome</th>\n",
       "    </tr>\n",
       "  </thead>\n",
       "  <tbody>\n",
       "    <tr>\n",
       "      <th>0</th>\n",
       "      <td>1001</td>\n",
       "      <td>2002-05-18</td>\n",
       "      <td>Claudete Pereira</td>\n",
       "    </tr>\n",
       "    <tr>\n",
       "      <th>3</th>\n",
       "      <td>1004</td>\n",
       "      <td>2002-05-20</td>\n",
       "      <td>José Souza</td>\n",
       "    </tr>\n",
       "    <tr>\n",
       "      <th>2</th>\n",
       "      <td>1003</td>\n",
       "      <td>2002-05-19</td>\n",
       "      <td>Sônia Santos Oliveira</td>\n",
       "    </tr>\n",
       "    <tr>\n",
       "      <th>1</th>\n",
       "      <td>1002</td>\n",
       "      <td>2002-05-18</td>\n",
       "      <td>NaN</td>\n",
       "    </tr>\n",
       "  </tbody>\n",
       "</table>\n",
       "</div>"
      ],
      "text/plain": [
       "   Numero       Data                   Nome\n",
       "0    1001 2002-05-18       Claudete Pereira\n",
       "3    1004 2002-05-20             José Souza\n",
       "2    1003 2002-05-19  Sônia Santos Oliveira\n",
       "1    1002 2002-05-18                    NaN"
      ]
     },
     "execution_count": 97,
     "metadata": {},
     "output_type": "execute_result"
    }
   ],
   "source": [
    "# Refaça o exercício 2 organizando o resultado pela ordem alfabética do nome do cliente e caso o nome seja nulo, deve ser\n",
    "# posicionado por último\n",
    "pd.merge(nota, cliente, left_on='Codigo_Cliente', right_on='Codigo' , how='left')[['Numero', 'Data', 'Nome']].sort_values('Nome')\n"
   ]
  },
  {
   "cell_type": "code",
   "execution_count": null,
   "id": "ec61a859",
   "metadata": {},
   "outputs": [],
   "source": []
  }
 ],
 "metadata": {
  "kernelspec": {
   "display_name": "Python 3 (ipykernel)",
   "language": "python",
   "name": "python3"
  },
  "language_info": {
   "codemirror_mode": {
    "name": "ipython",
    "version": 3
   },
   "file_extension": ".py",
   "mimetype": "text/x-python",
   "name": "python",
   "nbconvert_exporter": "python",
   "pygments_lexer": "ipython3",
   "version": "3.11.4"
  }
 },
 "nbformat": 4,
 "nbformat_minor": 5
}
